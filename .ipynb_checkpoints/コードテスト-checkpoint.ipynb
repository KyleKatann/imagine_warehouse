{
 "cells": [
  {
   "cell_type": "code",
   "execution_count": 7,
   "metadata": {},
   "outputs": [
    {
     "name": "stdout",
     "output_type": "stream",
     "text": [
      "135126\n",
      "One hundred thirty five thousand one hundred twenty six\n"
     ]
    }
   ],
   "source": [
    "# 数字を英語にせよ、小数点以下はpointをつけて１個ずつ読み上げよ 但し、変なもののの入力も与えられる\n",
    "\n",
    "s=input()\n",
    "\n",
    "try:\n",
    "    float(s)\n",
    "except:\n",
    "    print(-1)\n",
    "    exit(0)\n",
    "\n",
    "if float(s)>=1 and s[0]==\"0\":\n",
    "    print(-1)\n",
    "    exit(0)\n",
    "\n",
    "if \".\"in s:\n",
    "    I,F=s.split(\".\")\n",
    "else:\n",
    "    I=s\n",
    "    F=\"\"\n",
    "    \n",
    "nums_0_19 = ['zero','one','two','three','four','five','six','seven','eight',\"nine\",\n",
    "'ten','eleven','twelve','thirteen','fourteen','fifteen','sixteen','seventeen','eighteen','nineteen']\n",
    "nums_20_90 = ['twenty','thirty','forty','fifty','sixty','seventy','eighty','ninety']\n",
    "nums_dict = {100: 'hundred',1000:'thousand', 1000000:'million', 1000000000:'billion'}\n",
    "\n",
    "def num2words(num):\n",
    "    if num < 20:\n",
    "        return nums_0_19[num]\n",
    "    if num < 100:\n",
    "        return nums_20_90[num//10-2] + ('' if num%10 == 0 else ' ' + nums_0_19[num%10])\n",
    "\n",
    "    maxkey = max([key for key in nums_dict.keys() if key <= num])\n",
    "    return num2words(num//maxkey) + ' ' + nums_dict[maxkey] + ('' if num%maxkey == 0 else ' ' +num2words(num%maxkey))\n",
    "\n",
    "def float2words(f):\n",
    "    return \" \".join(nums_0_19[int(i)] for i in f)\n",
    "\n",
    "if F:\n",
    "    print( (num2words(int(I))+' point '+float2words(F)).capitalize() )\n",
    "else:\n",
    "    print( (num2words(int(I))).capitalize() )\n",
    "    \n"
   ]
  },
  {
   "cell_type": "code",
   "execution_count": null,
   "metadata": {},
   "outputs": [],
   "source": [
    "#スクショした\n",
    "\n",
    "import sys\n",
    "import collections as co\n",
    "from decimal import Decimal, ROUND_HALF_UP\n",
    "\n",
    "def main(argv):\n",
    "    \n",
    "    outputname=argv[0]\n",
    "    filepath=argv[1]\n",
    "    f = open(filepath).readlines()\n",
    "    f=f[1:]\n",
    "\n",
    "    if outputname==\"dropouts\":    \n",
    "        print(\"ID\")\n",
    "        for line in f:\n",
    "            IDscores=line.split(\",\")\n",
    "            if sum(j<50 for j in map(int,IDscores[1:]))>=2:\n",
    "                print(IDscores[0])\n",
    "\n",
    "    elif outputname==\"top-vs-bottom\":\n",
    "        print(\"ID,Mean\")\n",
    "        scoresd=co.defaultdict(list)\n",
    "\n",
    "        for line in f:\n",
    "            IDscores=line.split(\",\")\n",
    "            scores=tuple(map(int,IDscores[1:]))\n",
    "            mean = str(sum(scores)/len(scores))\n",
    "\n",
    "            scoresd[ Decimal(mean).quantize(Decimal('0.01'), rounding=ROUND_HALF_UP) ].append( IDscores[0] )\n",
    "        \n",
    "        MAX=max(scoresd.keys())\n",
    "        MIN=min(scoresd.keys())\n",
    "        for i in sorted(scoresd[ MAX ]):\n",
    "            print(i+\",\"+str(MAX))\n",
    "        for i in sorted(scoresd[ MIN ]):\n",
    "            print(i+\",\"+str(MIN))\n",
    "\n",
    "\n",
    "if __name__ == '__main__':\n",
    "    main(sys.argv[1:])\n",
    "\n"
   ]
  }
 ],
 "metadata": {
  "kernelspec": {
   "display_name": "Python 3",
   "language": "python",
   "name": "python3"
  },
  "language_info": {
   "codemirror_mode": {
    "name": "ipython",
    "version": 3
   },
   "file_extension": ".py",
   "mimetype": "text/x-python",
   "name": "python",
   "nbconvert_exporter": "python",
   "pygments_lexer": "ipython3",
   "version": "3.7.4"
  }
 },
 "nbformat": 4,
 "nbformat_minor": 2
}
