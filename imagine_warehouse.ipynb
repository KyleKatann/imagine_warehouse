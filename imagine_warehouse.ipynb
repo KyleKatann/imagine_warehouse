{
 "cells": [
  {
   "cell_type": "code",
   "execution_count": 2,
   "metadata": {
    "scrolled": false
   },
   "outputs": [
    {
     "name": "stdout",
     "output_type": "stream",
     "text": [
      "([0, 3, 28, 17, 94, 98, 33, 13, 56, 19, 12, 88, 86, 74, 29, 25, 32, 70, 63, 16, 57, 58, 47, 48, 99, 69, 1, 41, 80, 95, 31, 71, 7, 5, 78, 8, 92, 73, 85, 2, 60, 93, 87, 55, 14, 81, 96, 54, 89, 75, 6, 72, 23, 52, 61, 45, 40, 34, 20, 77, 46, 11, 44, 36, 67, 15, 90, 42, 53, 82, 66, 51, 10, 39, 76, 22, 26, 50, 65, 84, 35, 49, 37, 59, 64, 18, 27, 9, 68, 43, 97, 4, 38, 24, 83, 62, 79, 91, 30, 21], 806.028853788602)\n"
     ]
    }
   ],
   "source": [
    "import sys\n",
    "sys.path.append('./')\n",
    "\n",
    "import TSP\n",
    "import math\n",
    "import random\n",
    "\n",
    "n = 100\n",
    "\n",
    "# Create n random points\n",
    "\n",
    "points = [(random.randint(0, 100), random.randint(0, 100)) for i in range(n)]\n",
    "\n",
    "# Dictionary of Euclidean distance between each pair of points\n",
    "\n",
    "dist = {(i, j): math.sqrt(sum((points[i][k]-points[j][k])**2 for k in range(2)))  for i in range(n) for j in range(i)}\n",
    "\n",
    "print(TSP.main(n,dist))"
   ]
  },
  {
   "cell_type": "code",
   "execution_count": null,
   "metadata": {},
   "outputs": [],
   "source": []
  },
  {
   "cell_type": "code",
   "execution_count": 66,
   "metadata": {
    "scrolled": false
   },
   "outputs": [],
   "source": [
    "# 副問題のノード\n",
    "# 全点よりダイクストラをして、他の点への最短ルートと最短距離を記録\n",
    "\n",
    "from heapq import*\n",
    "import pandas as pd\n",
    "\n",
    "def DIJKSTRA(point,d):\n",
    "    cost      = [float(\"inf\")]*n\n",
    "    path      = [[]for i in range(n)]\n",
    "    Q         = []\n",
    "    cost[point]=0\n",
    "    path[point]=[point]\n",
    "    heappush(Q,(point,cost[point],path[point]))\n",
    "    while Q:\n",
    "        prefnd,tmpC,tmpP=heappop(Q)\n",
    "        if cost[prefnd]<tmpC:\n",
    "            continue\n",
    "        for node,c in d[prefnd]:\n",
    "            altC=c+tmpC\n",
    "            altP=tmpP+[node]\n",
    "            if cost[node]>altC:\n",
    "                path[node]=altP\n",
    "                cost[node]=altC\n",
    "                heappush(Q,(node,altC,altP))\n",
    "    return cost,path\n",
    "\n",
    "df=pd.read_excel(\"./warehouse_node.xlsx\").fillna(\"\")\n",
    "\n",
    "n=max(df[\"node_number\"])+1\n",
    "d=[[]for i in range(n)]\n",
    "\n",
    "nodelist=pd.concat([df.loc[:,\"node_number\"],df.loc[:,\"connect_node_1\":\"connect_node_4\"]],axis=1).values.tolist()\n",
    "\n",
    "d={ line[0]:[int(num) for num in line[1:] if type(num)!=str] for line in nodelist}\n",
    "d={k:[(i,1)for i in v] for k,v in d.items()}\n",
    "\n",
    "toexcel=[[\"start\",\"end\",\"cost\",\"path\"]]\n",
    "for start in range(n):\n",
    "    c,p=DIJKSTRA(start,d)\n",
    "    for end,cost,path in zip(range(n),c,p):\n",
    "        toexcel.append([start,end,cost,\",\".join(map(str,path))])\n",
    "\n",
    "pd.DataFrame(toexcel).to_excel(\"./warehouse_path.xlsx\",header=None,index=None)"
   ]
  }
 ],
 "metadata": {
  "kernelspec": {
   "display_name": "Python 3",
   "language": "python",
   "name": "python3"
  },
  "language_info": {
   "codemirror_mode": {
    "name": "ipython",
    "version": 3
   },
   "file_extension": ".py",
   "mimetype": "text/x-python",
   "name": "python",
   "nbconvert_exporter": "python",
   "pygments_lexer": "ipython3",
   "version": "3.7.4"
  }
 },
 "nbformat": 4,
 "nbformat_minor": 2
}
