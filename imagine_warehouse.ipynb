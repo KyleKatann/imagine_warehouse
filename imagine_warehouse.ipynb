{
 "cells": [
  {
   "cell_type": "code",
   "execution_count": 3,
   "metadata": {
    "scrolled": false
   },
   "outputs": [],
   "source": [
    "# warehouse_nodeを読んで、使わないノードを経由したルートを作る(start_node,end_node,最短距離,最短距離の経由方法)\n",
    "# 全点よりダイクストラをして、他の点への最短ルートと最短距離を記録\n",
    "\n",
    "from heapq import*\n",
    "import pandas as pd\n",
    "\n",
    "def DIJKSTRA(point,d):\n",
    "    cost      = [float(\"inf\")]*n\n",
    "    path      = [[]for i in range(n)]\n",
    "    Q         = []\n",
    "    cost[point]=0\n",
    "    path[point]=[point]\n",
    "    heappush(Q,(point,cost[point],path[point]))\n",
    "    while Q:\n",
    "        prefnd,tmpC,tmpP=heappop(Q)\n",
    "        if cost[prefnd]<tmpC:\n",
    "            continue\n",
    "        for node,c in d[prefnd]:\n",
    "            altC=c+tmpC\n",
    "            altP=tmpP+[node]\n",
    "            if cost[node]>altC:\n",
    "                path[node]=altP\n",
    "                cost[node]=altC\n",
    "                heappush(Q,(node,altC,altP))\n",
    "    return cost,path\n",
    "\n",
    "dfnode=pd.read_excel(\"./warehouse_node.xlsx\").fillna(\"\")\n",
    "\n",
    "n=max(dfnode[\"node_number\"])+1\n",
    "d=[[]for i in range(n)]\n",
    "\n",
    "nodelist=pd.concat([dfnode.loc[:,\"node_number\"],dfnode.loc[:,\"connect_node_1\":\"connect_node_4\"]],axis=1).values.tolist()\n",
    "\n",
    "d={ line[0]:[int(num) for num in line[1:] if type(num)!=str] for line in nodelist}\n",
    "d={k:[(i,1)for i in v] for k,v in d.items()}\n",
    "\n",
    "toexcel=[[\"start\",\"end\",\"cost\",\"root\"]]\n",
    "for start in range(n):\n",
    "    c,p=DIJKSTRA(start,d)\n",
    "    for end,cost,path in zip(range(n),c,p):\n",
    "        toexcel.append([start,end,cost,\",\".join(map(str,path))])\n",
    "\n",
    "pd.DataFrame(toexcel).to_excel(\"./warehouse_root.xlsx\",header=None,index=None)"
   ]
  },
  {
   "cell_type": "code",
   "execution_count": 33,
   "metadata": {},
   "outputs": [],
   "source": [
    "# 仮想ピッキングクエリー作成\n",
    "\n",
    "import random as rd\n",
    "\n",
    "inventry=[chr(i+65) for i in range(26)]+[chr(i+97) for i in range(6)]\n",
    "\n",
    "l=[]\n",
    "for i in range(100):\n",
    "    num=random.randint(1,10)\n",
    "\n",
    "    l.append(\"start,\"+\",\".join( sorted(set(inventry[rd.randint(0,len(inventry)-1)]for i in range(num))) ))\n",
    "\n",
    "pd.DataFrame(l).to_excel(\"query.xlsx\",header=None,index=None)"
   ]
  },
  {
   "cell_type": "code",
   "execution_count": 17,
   "metadata": {},
   "outputs": [
    {
     "name": "stdout",
     "output_type": "stream",
     "text": [
      "([0, 1, 2, 3, 4], 6.0)\n"
     ]
    }
   ],
   "source": [
    "import sys\n",
    "sys.path.append('./')\n",
    "\n",
    "import TSP\n",
    "import math\n",
    "import random\n",
    "import pandas as pd\n",
    "\n",
    "dfnode=pd.read_excel(\"warehouse_node.xlsx\")\n",
    "dfroot=pd.read_excel(\"warehouse_root.xlsx\").values.tolist()[1:]\n",
    "dfwii ={name:node for name,node in pd.read_excel(\"where_is_inventry.xlsx\").values.tolist()[1:]}\n",
    "query =pd.read_excel(\"warehouse_root.xlsx\").values.tolist()\n",
    "\n",
    "\n",
    "n=max(dfnode[\"node_number\"])\n",
    "dist = {(start,end):cost for start,end,cost,root in dfroot if start>end}\n",
    "\n",
    "for i in range():\n",
    "    \n",
    "\n",
    "print(TSP.main(n,dist))\n",
    "\n",
    "#print(points)\n",
    "#print(dist)\n"
   ]
  },
  {
   "cell_type": "code",
   "execution_count": 32,
   "metadata": {},
   "outputs": [],
   "source": []
  }
 ],
 "metadata": {
  "kernelspec": {
   "display_name": "Python 3",
   "language": "python",
   "name": "python3"
  },
  "language_info": {
   "codemirror_mode": {
    "name": "ipython",
    "version": 3
   },
   "file_extension": ".py",
   "mimetype": "text/x-python",
   "name": "python",
   "nbconvert_exporter": "python",
   "pygments_lexer": "ipython3",
   "version": "3.7.4"
  }
 },
 "nbformat": 4,
 "nbformat_minor": 2
}
