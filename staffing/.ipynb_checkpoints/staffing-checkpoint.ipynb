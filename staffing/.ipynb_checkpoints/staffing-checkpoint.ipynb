{
 "cells": [
  {
   "cell_type": "code",
   "execution_count": 1,
   "metadata": {},
   "outputs": [],
   "source": [
    "import pandas as pd"
   ]
  },
  {
   "cell_type": "markdown",
   "metadata": {},
   "source": [
    "## staff_list.xlsx 100人のスタッフ各員の能力を数値化したもの\n",
    " - 現実ならスタッフ自身のやりたい仕事のアンケートを取る、もしくは社員やリーダーが評価する。\n",
    " - その際、癒着や楽な仕事に集中しないか留意する必要がある\n",
    " - スタッフの能力は一項目あたりランダムに0～10なので平均5となる。100人なので約500の労働力がある。\n"
   ]
  },
  {
   "cell_type": "code",
   "execution_count": 2,
   "metadata": {},
   "outputs": [
    {
     "data": {
      "text/html": [
       "<div>\n",
       "<style scoped>\n",
       "    .dataframe tbody tr th:only-of-type {\n",
       "        vertical-align: middle;\n",
       "    }\n",
       "\n",
       "    .dataframe tbody tr th {\n",
       "        vertical-align: top;\n",
       "    }\n",
       "\n",
       "    .dataframe thead th {\n",
       "        text-align: right;\n",
       "    }\n",
       "</style>\n",
       "<table border=\"1\" class=\"dataframe\">\n",
       "  <thead>\n",
       "    <tr style=\"text-align: right;\">\n",
       "      <th></th>\n",
       "      <th>名前</th>\n",
       "      <th>通常検品</th>\n",
       "      <th>バーコード検品</th>\n",
       "      <th>荷受</th>\n",
       "      <th>採寸</th>\n",
       "      <th>商品サポート</th>\n",
       "      <th>撮影アシスタント</th>\n",
       "      <th>入出庫</th>\n",
       "      <th>発送</th>\n",
       "      <th>リーダー</th>\n",
       "      <th>掃除</th>\n",
       "    </tr>\n",
       "  </thead>\n",
       "  <tbody>\n",
       "    <tr>\n",
       "      <td>0</td>\n",
       "      <td>佐藤</td>\n",
       "      <td>0</td>\n",
       "      <td>6</td>\n",
       "      <td>10</td>\n",
       "      <td>10</td>\n",
       "      <td>2</td>\n",
       "      <td>2</td>\n",
       "      <td>0</td>\n",
       "      <td>5</td>\n",
       "      <td>10</td>\n",
       "      <td>0</td>\n",
       "    </tr>\n",
       "    <tr>\n",
       "      <td>1</td>\n",
       "      <td>高橋</td>\n",
       "      <td>2</td>\n",
       "      <td>0</td>\n",
       "      <td>5</td>\n",
       "      <td>2</td>\n",
       "      <td>1</td>\n",
       "      <td>5</td>\n",
       "      <td>0</td>\n",
       "      <td>2</td>\n",
       "      <td>3</td>\n",
       "      <td>1</td>\n",
       "    </tr>\n",
       "    <tr>\n",
       "      <td>2</td>\n",
       "      <td>伊藤</td>\n",
       "      <td>6</td>\n",
       "      <td>9</td>\n",
       "      <td>6</td>\n",
       "      <td>10</td>\n",
       "      <td>0</td>\n",
       "      <td>1</td>\n",
       "      <td>5</td>\n",
       "      <td>8</td>\n",
       "      <td>6</td>\n",
       "      <td>7</td>\n",
       "    </tr>\n",
       "    <tr>\n",
       "      <td>3</td>\n",
       "      <td>渡辺</td>\n",
       "      <td>1</td>\n",
       "      <td>0</td>\n",
       "      <td>7</td>\n",
       "      <td>7</td>\n",
       "      <td>3</td>\n",
       "      <td>10</td>\n",
       "      <td>0</td>\n",
       "      <td>10</td>\n",
       "      <td>2</td>\n",
       "      <td>0</td>\n",
       "    </tr>\n",
       "    <tr>\n",
       "      <td>4</td>\n",
       "      <td>小林</td>\n",
       "      <td>3</td>\n",
       "      <td>3</td>\n",
       "      <td>2</td>\n",
       "      <td>4</td>\n",
       "      <td>0</td>\n",
       "      <td>9</td>\n",
       "      <td>6</td>\n",
       "      <td>10</td>\n",
       "      <td>10</td>\n",
       "      <td>10</td>\n",
       "    </tr>\n",
       "  </tbody>\n",
       "</table>\n",
       "</div>"
      ],
      "text/plain": [
       "   名前  通常検品  バーコード検品  荷受  採寸  商品サポート  撮影アシスタント  入出庫  発送  リーダー  掃除\n",
       "0  佐藤     0        6  10  10       2         2    0   5    10   0\n",
       "1  高橋     2        0   5   2       1         5    0   2     3   1\n",
       "2  伊藤     6        9   6  10       0         1    5   8     6   7\n",
       "3  渡辺     1        0   7   7       3        10    0  10     2   0\n",
       "4  小林     3        3   2   4       0         9    6  10    10  10"
      ]
     },
     "execution_count": 2,
     "metadata": {},
     "output_type": "execute_result"
    }
   ],
   "source": [
    "dfstaff=pd.read_excel(\"./staff_list.xlsx\").fillna(\"\")\n",
    "dfstaff.head()"
   ]
  },
  {
   "cell_type": "code",
   "execution_count": 3,
   "metadata": {},
   "outputs": [
    {
     "data": {
      "text/html": [
       "<div>\n",
       "<style scoped>\n",
       "    .dataframe tbody tr th:only-of-type {\n",
       "        vertical-align: middle;\n",
       "    }\n",
       "\n",
       "    .dataframe tbody tr th {\n",
       "        vertical-align: top;\n",
       "    }\n",
       "\n",
       "    .dataframe thead th {\n",
       "        text-align: right;\n",
       "    }\n",
       "</style>\n",
       "<table border=\"1\" class=\"dataframe\">\n",
       "  <thead>\n",
       "    <tr style=\"text-align: right;\">\n",
       "      <th></th>\n",
       "      <th>本日の仕事</th>\n",
       "      <th>通常検品</th>\n",
       "      <th>バーコード検品</th>\n",
       "      <th>荷受</th>\n",
       "      <th>採寸</th>\n",
       "      <th>商品サポート</th>\n",
       "      <th>撮影アシスタント</th>\n",
       "      <th>入出庫</th>\n",
       "      <th>発送</th>\n",
       "      <th>リーダー</th>\n",
       "      <th>掃除</th>\n",
       "    </tr>\n",
       "  </thead>\n",
       "  <tbody>\n",
       "    <tr>\n",
       "      <td>0</td>\n",
       "      <td>仕事量</td>\n",
       "      <td>30</td>\n",
       "      <td>50</td>\n",
       "      <td>67</td>\n",
       "      <td>32</td>\n",
       "      <td>22</td>\n",
       "      <td>11</td>\n",
       "      <td>56</td>\n",
       "      <td>44</td>\n",
       "      <td>10</td>\n",
       "      <td>5</td>\n",
       "    </tr>\n",
       "  </tbody>\n",
       "</table>\n",
       "</div>"
      ],
      "text/plain": [
       "  本日の仕事  通常検品  バーコード検品  荷受  採寸  商品サポート  撮影アシスタント  入出庫  発送  リーダー  掃除\n",
       "0   仕事量    30       50  67  32      22        11   56  44    10   5"
      ]
     },
     "execution_count": 3,
     "metadata": {},
     "output_type": "execute_result"
    }
   ],
   "source": [
    "aow=pd.read_excel(\"./amount_of_work.xlsx\")\n",
    "aow"
   ]
  },
  {
   "cell_type": "code",
   "execution_count": 4,
   "metadata": {},
   "outputs": [
    {
     "data": {
      "text/plain": [
       "['通常検品',\n",
       " 'バーコード検品',\n",
       " '荷受',\n",
       " '採寸',\n",
       " '商品サポート',\n",
       " '撮影アシスタント',\n",
       " '入出庫',\n",
       " '発送',\n",
       " 'リーダー',\n",
       " '掃除']"
      ]
     },
     "execution_count": 4,
     "metadata": {},
     "output_type": "execute_result"
    }
   ],
   "source": [
    "works=dfstaff.keys().tolist()[1:]\n",
    "works"
   ]
  },
  {
   "cell_type": "code",
   "execution_count": 5,
   "metadata": {},
   "outputs": [
    {
     "data": {
      "text/plain": [
       "[30, 50, 67, 32, 22, 11, 56, 44, 10, 5]"
      ]
     },
     "execution_count": 5,
     "metadata": {},
     "output_type": "execute_result"
    }
   ],
   "source": [
    "amount_of_work=aow.values.tolist()[0][1:]\n",
    "amount_of_work"
   ]
  },
  {
   "cell_type": "markdown",
   "metadata": {},
   "source": [
    "# ①表順に前から仕事量を満たすように入れていく"
   ]
  },
  {
   "cell_type": "code",
   "execution_count": 6,
   "metadata": {},
   "outputs": [
    {
     "name": "stdout",
     "output_type": "stream",
     "text": [
      "佐藤           通常検品\n",
      "高橋           通常検品\n",
      "伊藤           通常検品\n",
      "渡辺           通常検品\n",
      "小林           通常検品\n",
      "吉田           通常検品\n",
      "佐々木           通常検品\n",
      "松本           通常検品\n",
      "木村           バーコード検品\n",
      "斎藤           バーコード検品\n",
      "山崎           バーコード検品\n",
      "森           バーコード検品\n",
      "橋本           バーコード検品\n",
      "石川           バーコード検品\n",
      "前田           バーコード検品\n",
      "後藤           バーコード検品\n",
      "岡田           バーコード検品\n",
      "長谷川           荷受\n",
      "石井           荷受\n",
      "坂本           荷受\n",
      "藤井           荷受\n",
      "福田           荷受\n",
      "西村           荷受\n",
      "太田           荷受\n",
      "原田           荷受\n",
      "中野           荷受\n",
      "小野           荷受\n",
      "竹内           荷受\n",
      "中山           荷受\n",
      "石田           荷受\n",
      "上田           採寸\n",
      "森田           採寸\n",
      "横山           採寸\n",
      "宮崎           採寸\n",
      "内田           採寸\n",
      "谷口           商品サポート\n",
      "丸山           商品サポート\n",
      "大野           商品サポート\n",
      "菅原           商品サポート\n",
      "武田           商品サポート\n",
      "上野           撮影アシスタント\n",
      "千葉           撮影アシスタント\n",
      "増田           撮影アシスタント\n",
      "小山           撮影アシスタント\n",
      "平野           入出庫\n",
      "渡部           入出庫\n",
      "菊地           入出庫\n",
      "松尾           入出庫\n",
      "木下           入出庫\n",
      "野村           入出庫\n",
      "鈴木           入出庫\n",
      "田中           入出庫\n",
      "山本           入出庫\n",
      "中村           入出庫\n",
      "加藤           入出庫\n",
      "山田           入出庫\n",
      "山口           発送\n",
      "井上           発送\n",
      "林           発送\n",
      "清水           発送\n",
      "阿部           発送\n",
      "池田           発送\n",
      "山下           発送\n",
      "中島           発送\n",
      "藤田           発送\n",
      "小川           発送\n",
      "村上           発送\n",
      "近藤           発送\n",
      "斉藤           発送\n",
      "遠藤           発送\n",
      "青木           リーダー\n",
      "三浦           リーダー\n",
      "藤原           掃除\n",
      "松田           掃除\n",
      "['通常検品', 'バーコード検品', '荷受', '採寸', '商品サポート', '撮影アシスタント', '入出庫', '発送', 'リーダー', '掃除']\n",
      "必要な仕事量         [30, 50, 67, 32, 22, 11, 56, 44, 10, 5]\n",
      "割り当てられた仕事量 [32, 51, 73, 33, 27, 15, 59, 47, 12, 10]\n",
      "必要人数 73 人\n"
     ]
    }
   ],
   "source": [
    "staffs=dfstaff.values.tolist()\n",
    "\n",
    "works_sum=[0]*11\n",
    "\n",
    "cnt=0\n",
    "for num,staff in enumerate(staffs):\n",
    "    if works_sum[cnt]<amount_of_work[cnt]:\n",
    "        works_sum[cnt]+=staff[cnt+1]\n",
    "    else:\n",
    "        works_sum[cnt+1]+=staff[cnt+2]\n",
    "        cnt+=1\n",
    "    print(staff[0],\"         \",works[cnt])\n",
    "    if works_sum[9]>=amount_of_work[9]:\n",
    "        break\n",
    "works_sum=works_sum[:-1]\n",
    "\n",
    "print(works)\n",
    "print(\"必要な仕事量        \",amount_of_work)\n",
    "print(\"割り当てられた仕事量\",works_sum)\n",
    "print(\"必要人数\",num,\"人\")"
   ]
  },
  {
   "cell_type": "markdown",
   "metadata": {},
   "source": [
    "# 実験②：各員の能力を発揮できるように最適化して入れる"
   ]
  },
  {
   "cell_type": "code",
   "execution_count": 7,
   "metadata": {
    "scrolled": false
   },
   "outputs": [
    {
     "data": {
      "text/plain": [
       "{'通常検品': 0,\n",
       " 'バーコード検品': 6,\n",
       " '荷受': 10,\n",
       " '採寸': 10,\n",
       " '商品サポート': 2,\n",
       " '撮影アシスタント': 2,\n",
       " '入出庫': 0,\n",
       " '発送': 5,\n",
       " 'リーダー': 10,\n",
       " '掃除': 0}"
      ]
     },
     "execution_count": 7,
     "metadata": {},
     "output_type": "execute_result"
    }
   ],
   "source": [
    "# gurobiで呼び出す辞書を作成\n",
    "NameWork=dfstaff.keys().tolist()\n",
    "\n",
    "# スタッフの名前をキーとして能力を示したdict\n",
    "dstaff={}\n",
    "\n",
    "for staff in dfstaff.values.tolist():\n",
    "    dstaff[staff[0]]={work:value for work,value in zip(NameWork[1:],staff[1:])}\n",
    "dstaff[\"佐藤\"]"
   ]
  },
  {
   "cell_type": "code",
   "execution_count": 8,
   "metadata": {},
   "outputs": [
    {
     "data": {
      "text/plain": [
       "{'通常検品': 30,\n",
       " 'バーコード検品': 50,\n",
       " '荷受': 67,\n",
       " '採寸': 32,\n",
       " '商品サポート': 22,\n",
       " '撮影アシスタント': 11,\n",
       " '入出庫': 56,\n",
       " '発送': 44,\n",
       " 'リーダー': 10,\n",
       " '掃除': 5}"
      ]
     },
     "execution_count": 8,
     "metadata": {},
     "output_type": "execute_result"
    }
   ],
   "source": [
    "dwork={k:v for k,v in zip(works,amount_of_work)}\n",
    "dwork"
   ]
  },
  {
   "cell_type": "code",
   "execution_count": 18,
   "metadata": {
    "scrolled": false
   },
   "outputs": [
    {
     "name": "stdout",
     "output_type": "stream",
     "text": [
      "佐々木        通常検品\n",
      "田中        通常検品\n",
      "山口        通常検品\n",
      "岡田        バーコード検品\n",
      "石田        バーコード検品\n",
      "加藤        バーコード検品\n",
      "和田        バーコード検品\n",
      "酒井        バーコード検品\n",
      "佐藤        荷受\n",
      "松本        荷受\n",
      "長谷川        荷受\n",
      "木下        荷受\n",
      "中島        荷受\n",
      "岡本        荷受\n",
      "新井        荷受\n",
      "後藤        採寸\n",
      "太田        採寸\n",
      "平野        採寸\n",
      "工藤        採寸\n",
      "藤井        商品サポート\n",
      "山下        商品サポート\n",
      "久保        商品サポート\n",
      "武田        撮影アシスタント\n",
      "遠藤        撮影アシスタント\n",
      "石川        入出庫\n",
      "池田        入出庫\n",
      "小川        入出庫\n",
      "中川        入出庫\n",
      "宮本        入出庫\n",
      "村田        入出庫\n",
      "渡辺        発送\n",
      "小林        発送\n",
      "横山        発送\n",
      "宮崎        発送\n",
      "高田        発送\n",
      "上田        リーダー\n",
      "伊藤        掃除\n",
      "高橋        休憩\n",
      "吉田        休憩\n",
      "木村        休憩\n",
      "斎藤        休憩\n",
      "山崎        休憩\n",
      "森        休憩\n",
      "橋本        休憩\n",
      "前田        休憩\n",
      "石井        休憩\n",
      "坂本        休憩\n",
      "福田        休憩\n",
      "西村        休憩\n",
      "原田        休憩\n",
      "中野        休憩\n",
      "小野        休憩\n",
      "竹内        休憩\n",
      "中山        休憩\n",
      "森田        休憩\n",
      "内田        休憩\n",
      "谷口        休憩\n",
      "丸山        休憩\n",
      "大野        休憩\n",
      "菅原        休憩\n",
      "上野        休憩\n",
      "千葉        休憩\n",
      "増田        休憩\n",
      "小山        休憩\n",
      "渡部        休憩\n",
      "菊地        休憩\n",
      "松尾        休憩\n",
      "野村        休憩\n",
      "鈴木        休憩\n",
      "山本        休憩\n",
      "中村        休憩\n",
      "山田        休憩\n",
      "井上        休憩\n",
      "林        休憩\n",
      "清水        休憩\n",
      "阿部        休憩\n",
      "藤田        休憩\n",
      "村上        休憩\n",
      "近藤        休憩\n",
      "斉藤        休憩\n",
      "青木        休憩\n",
      "三浦        休憩\n",
      "藤原        休憩\n",
      "松田        休憩\n",
      "田村        休憩\n",
      "金子        休憩\n",
      "原        休憩\n",
      "柴田        休憩\n",
      "高木        休憩\n",
      "安藤        休憩\n",
      "今井        休憩\n",
      "河野        休憩\n",
      "藤本        休憩\n",
      "杉山        休憩\n",
      "小島        休憩\n",
      "大塚        休憩\n",
      "松井        休憩\n",
      "岩崎        休憩\n",
      "佐野        休憩\n",
      "野口        休憩\n",
      "['通常検品', 'バーコード検品', '荷受', '採寸', '商品サポート', '撮影アシスタント', '入出庫', '発送', 'リーダー', '掃除']\n",
      "必要な仕事量         [30, 50, 67, 32, 22, 11, 56, 44, 10, 5]\n",
      "割り当てられた仕事量 [30, 50, 70, 40, 30, 20, 60, 50, 10, 7]\n",
      "必要人数 37 人\n"
     ]
    }
   ],
   "source": [
    "from gurobipy import*\n",
    "\n",
    "m=Model(\"staffing\")\n",
    "m.setParam('OutputFlag',0)\n",
    "\n",
    "\n",
    "#スタッフをどこの業務に配置するか、バイナリー変数で表現する。\n",
    "d_staff_work={} \n",
    "for work in works+[\"休憩\"]:\n",
    "    for staff in dstaff.keys():\n",
    "        d_staff_work[(staff,work)]=m.addVar(vtype=\"B\",name=staff+\"_\"+work)\n",
    "\n",
    "m.update()\n",
    "\n",
    "# スタッフが割り振られる業務は一つであるという制約\n",
    "for staff in dstaff.keys():\n",
    "    m.addConstr( quicksum( d_staff_work[(staff,work)] for work in works+[\"休憩\"]) ==1 )\n",
    "\n",
    "m.update()\n",
    "\n",
    "# 仕事量を満たすという制約\n",
    "for work in works:\n",
    "    m.addConstr( quicksum(d_staff_work[(staff,work)]*dstaff[staff][work]for staff in dstaff.keys()) >= dwork[work] )\n",
    "\n",
    "m.update()\n",
    "\n",
    "\n",
    "# スタッフ人数の最小化\n",
    "m.setObjective( quicksum( d_staff_work[(staff,work)] for staff in dstaff.keys() for work in works) , GRB.MINIMIZE)\n",
    "m.update()\n",
    "#最適化\n",
    "m.optimize()\n",
    "\n",
    "works_sum=[0]*len(works)\n",
    "num=0\n",
    "if m.Status == GRB.Status.OPTIMAL:\n",
    "    for v in m.getVars():\n",
    "        if v.X:\n",
    "            staff,work=v.VarName.split(\"_\")\n",
    "            print(staff,\"      \",work)\n",
    "            if work!=\"休憩\":\n",
    "                num+=1\n",
    "#                print(dstaff[staff][work])\n",
    "                works_sum[works.index(work)]+=dstaff[staff][work]\n",
    "else:\n",
    "    print(\"infeasible\")\n",
    "\n",
    "print(works)\n",
    "print(\"必要な仕事量        \",amount_of_work)\n",
    "print(\"割り当てられた仕事量\",works_sum)\n",
    "print(\"必要人数\",num,\"人\")"
   ]
  },
  {
   "cell_type": "markdown",
   "metadata": {},
   "source": [
    "# 36人の削減！"
   ]
  },
  {
   "cell_type": "markdown",
   "metadata": {},
   "source": [
    "# 今後の課題\n",
    "\n",
    "- 確実に来る人員と当日バックレや病欠が起きる人員でモデルを分ける必要があるかもしれない\n",
    "- 一部、二部の枠、週四以上の契約、週三以下の契約などの制約条件もある\n",
    "- 人間関係の制約は入れることができる\n",
    "- 現実はもっと複雑なはず\n"
   ]
  }
 ],
 "metadata": {
  "kernelspec": {
   "display_name": "Python 3",
   "language": "python",
   "name": "python3"
  },
  "language_info": {
   "codemirror_mode": {
    "name": "ipython",
    "version": 3
   },
   "file_extension": ".py",
   "mimetype": "text/x-python",
   "name": "python",
   "nbconvert_exporter": "python",
   "pygments_lexer": "ipython3",
   "version": "3.7.4"
  }
 },
 "nbformat": 4,
 "nbformat_minor": 2
}
