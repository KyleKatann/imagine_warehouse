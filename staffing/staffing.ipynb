{
 "cells": [
  {
   "cell_type": "markdown",
   "metadata": {},
   "source": [
    "# まず最適化とは何であるか"
   ]
  },
  {
   "cell_type": "code",
   "execution_count": 1,
   "metadata": {},
   "outputs": [],
   "source": [
    "import random as rd\n",
    "import pandas as pd\n",
    "import numpy as np"
   ]
  },
  {
   "cell_type": "markdown",
   "metadata": {},
   "source": [
    "## staff_list.xlsx 80人のスタッフ各員の能力を数値化したもの\n",
    " - 現実ならスタッフ自身のやりたい仕事のアンケートを取る、もしくは社員やリーダーが評価する。\n",
    " - その際、癒着や楽な仕事に集中しないか留意する必要がある\n",
    " - 同作業NG項目も設定\n",
    " - スタッフの能力は一項目あたりランダムに0～10なので平均5となる。80人なので約400の労働力がある。\n"
   ]
  },
  {
   "cell_type": "code",
   "execution_count": 2,
   "metadata": {},
   "outputs": [
    {
     "data": {
      "text/html": [
       "<div>\n",
       "<style scoped>\n",
       "    .dataframe tbody tr th:only-of-type {\n",
       "        vertical-align: middle;\n",
       "    }\n",
       "\n",
       "    .dataframe tbody tr th {\n",
       "        vertical-align: top;\n",
       "    }\n",
       "\n",
       "    .dataframe thead th {\n",
       "        text-align: right;\n",
       "    }\n",
       "</style>\n",
       "<table border=\"1\" class=\"dataframe\">\n",
       "  <thead>\n",
       "    <tr style=\"text-align: right;\">\n",
       "      <th></th>\n",
       "      <th>名前</th>\n",
       "      <th>通常検品</th>\n",
       "      <th>バーコード検品</th>\n",
       "      <th>荷受</th>\n",
       "      <th>採寸</th>\n",
       "      <th>商品サポート</th>\n",
       "      <th>撮影アシスタント</th>\n",
       "      <th>入出庫</th>\n",
       "      <th>発送</th>\n",
       "      <th>NG</th>\n",
       "    </tr>\n",
       "  </thead>\n",
       "  <tbody>\n",
       "    <tr>\n",
       "      <td>0</td>\n",
       "      <td>佐藤</td>\n",
       "      <td>0</td>\n",
       "      <td>6</td>\n",
       "      <td>10</td>\n",
       "      <td>10</td>\n",
       "      <td>2</td>\n",
       "      <td>2</td>\n",
       "      <td>0</td>\n",
       "      <td>5</td>\n",
       "      <td>岡田</td>\n",
       "    </tr>\n",
       "    <tr>\n",
       "      <td>1</td>\n",
       "      <td>高橋</td>\n",
       "      <td>2</td>\n",
       "      <td>0</td>\n",
       "      <td>5</td>\n",
       "      <td>2</td>\n",
       "      <td>1</td>\n",
       "      <td>5</td>\n",
       "      <td>0</td>\n",
       "      <td>2</td>\n",
       "      <td></td>\n",
       "    </tr>\n",
       "    <tr>\n",
       "      <td>2</td>\n",
       "      <td>伊藤</td>\n",
       "      <td>6</td>\n",
       "      <td>9</td>\n",
       "      <td>6</td>\n",
       "      <td>10</td>\n",
       "      <td>0</td>\n",
       "      <td>1</td>\n",
       "      <td>5</td>\n",
       "      <td>8</td>\n",
       "      <td></td>\n",
       "    </tr>\n",
       "    <tr>\n",
       "      <td>3</td>\n",
       "      <td>渡辺</td>\n",
       "      <td>1</td>\n",
       "      <td>0</td>\n",
       "      <td>7</td>\n",
       "      <td>7</td>\n",
       "      <td>3</td>\n",
       "      <td>10</td>\n",
       "      <td>0</td>\n",
       "      <td>10</td>\n",
       "      <td></td>\n",
       "    </tr>\n",
       "    <tr>\n",
       "      <td>4</td>\n",
       "      <td>小林</td>\n",
       "      <td>3</td>\n",
       "      <td>3</td>\n",
       "      <td>2</td>\n",
       "      <td>4</td>\n",
       "      <td>0</td>\n",
       "      <td>9</td>\n",
       "      <td>6</td>\n",
       "      <td>10</td>\n",
       "      <td>内田</td>\n",
       "    </tr>\n",
       "  </tbody>\n",
       "</table>\n",
       "</div>"
      ],
      "text/plain": [
       "   名前  通常検品  バーコード検品  荷受  採寸  商品サポート  撮影アシスタント  入出庫  発送  NG\n",
       "0  佐藤     0        6  10  10       2         2    0   5  岡田\n",
       "1  高橋     2        0   5   2       1         5    0   2    \n",
       "2  伊藤     6        9   6  10       0         1    5   8    \n",
       "3  渡辺     1        0   7   7       3        10    0  10    \n",
       "4  小林     3        3   2   4       0         9    6  10  内田"
      ]
     },
     "execution_count": 2,
     "metadata": {},
     "output_type": "execute_result"
    }
   ],
   "source": [
    "dfstaff=pd.read_excel(\"./staff_list.xlsx\").fillna(\"\")\n",
    "dfstaff.head()"
   ]
  },
  {
   "cell_type": "code",
   "execution_count": 3,
   "metadata": {},
   "outputs": [
    {
     "data": {
      "text/plain": [
       "['通常検品', 'バーコード検品', '荷受', '採寸', '商品サポート', '撮影アシスタント', '入出庫', '発送']"
      ]
     },
     "execution_count": 3,
     "metadata": {},
     "output_type": "execute_result"
    }
   ],
   "source": [
    "works=dfstaff.keys().tolist()[1:-1]\n",
    "works"
   ]
  },
  {
   "cell_type": "markdown",
   "metadata": {},
   "source": [
    "## 前提実験としてNG項目すら無視して前から10人ずつその仕事に割り振っていく(現状？)"
   ]
  },
  {
   "cell_type": "code",
   "execution_count": 5,
   "metadata": {},
   "outputs": [
    {
     "name": "stdout",
     "output_type": "stream",
     "text": [
      "['通常検品', 'バーコード検品', '荷受', '採寸', '商品サポート', '撮影アシスタント', '入出庫', '発送']\n",
      "[42, 58, 44, 54, 42, 61, 61, 62]\n",
      "424\n"
     ]
    }
   ],
   "source": [
    "staffs=dfstaff.values.tolist()\n",
    "\n",
    "works_sum=[]\n",
    "for i in range(0,80,10):\n",
    "    ws=0\n",
    "    for staff in staffs[i:i+10]:\n",
    "        ws+=staff[1:-1][i//10]\n",
    "    works_sum.append(ws)\n",
    "    \n",
    "print(works)\n",
    "print(works_sum)\n",
    "print(sum(works_sum))"
   ]
  },
  {
   "cell_type": "markdown",
   "metadata": {},
   "source": [
    "# 次にgurobiでNGを守りつつ最大の能力を発揮できるように配置する(最適化)"
   ]
  },
  {
   "cell_type": "code",
   "execution_count": 6,
   "metadata": {
    "scrolled": false
   },
   "outputs": [
    {
     "data": {
      "text/plain": [
       "{'通常検品': 0,\n",
       " 'バーコード検品': 6,\n",
       " '荷受': 10,\n",
       " '採寸': 10,\n",
       " '商品サポート': 2,\n",
       " '撮影アシスタント': 2,\n",
       " '入出庫': 0,\n",
       " '発送': 5,\n",
       " 'NG': '岡田'}"
      ]
     },
     "execution_count": 6,
     "metadata": {},
     "output_type": "execute_result"
    }
   ],
   "source": [
    "# gurobiで呼び出す辞書を作成\n",
    "NameWorkNg=dfstaff.keys().tolist()\n",
    "\n",
    "# スタッフの名前をキーとして能力を示したdict\n",
    "dstaff={}\n",
    "\n",
    "for staff in dfstaff.values.tolist():\n",
    "    dstaff[staff[0]]={work:value for work,value in zip(NameWorkNg[1:],staff[1:])}\n",
    "dstaff[\"佐藤\"]"
   ]
  },
  {
   "cell_type": "code",
   "execution_count": 9,
   "metadata": {},
   "outputs": [
    {
     "name": "stdout",
     "output_type": "stream",
     "text": [
      "佐々木        通常検品\n",
      "坂本        通常検品\n",
      "石田        通常検品\n",
      "松尾        通常検品\n",
      "野村        通常検品\n",
      "田中        通常検品\n",
      "山口        通常検品\n",
      "阿部        通常検品\n",
      "村上        通常検品\n",
      "近藤        通常検品\n",
      "遠藤        通常検品\n",
      "青木        通常検品\n",
      "松田        通常検品\n",
      "斎藤        バーコード検品\n",
      "山崎        バーコード検品\n",
      "岡田        バーコード検品\n",
      "原田        バーコード検品\n",
      "上田        バーコード検品\n",
      "谷口        バーコード検品\n",
      "増田        バーコード検品\n",
      "渡部        バーコード検品\n",
      "菊地        バーコード検品\n",
      "加藤        バーコード検品\n",
      "山田        バーコード検品\n",
      "和田        バーコード検品\n",
      "前田        荷受\n",
      "長谷川        荷受\n",
      "石井        荷受\n",
      "太田        荷受\n",
      "中山        荷受\n",
      "森田        荷受\n",
      "武田        荷受\n",
      "木下        荷受\n",
      "井上        荷受\n",
      "清水        荷受\n",
      "中島        荷受\n",
      "岡本        荷受\n",
      "佐藤        採寸\n",
      "伊藤        採寸\n",
      "石川        採寸\n",
      "後藤        採寸\n",
      "西村        採寸\n",
      "竹内        採寸\n",
      "内田        採寸\n",
      "大野        採寸\n",
      "平野        採寸\n",
      "林        採寸\n",
      "工藤        採寸\n",
      "木村        商品サポート\n",
      "藤井        商品サポート\n",
      "中野        商品サポート\n",
      "菅原        商品サポート\n",
      "鈴木        商品サポート\n",
      "山下        商品サポート\n",
      "藤田        商品サポート\n",
      "斉藤        商品サポート\n",
      "高橋        撮影アシスタント\n",
      "渡辺        撮影アシスタント\n",
      "森        撮影アシスタント\n",
      "中村        撮影アシスタント\n",
      "三浦        撮影アシスタント\n",
      "田村        撮影アシスタント\n",
      "丸山        入出庫\n",
      "山本        入出庫\n",
      "池田        入出庫\n",
      "小川        入出庫\n",
      "中川        入出庫\n",
      "小林        発送\n",
      "吉田        発送\n",
      "松本        発送\n",
      "橋本        発送\n",
      "福田        発送\n",
      "小野        発送\n",
      "横山        発送\n",
      "宮崎        発送\n",
      "上野        発送\n",
      "千葉        発送\n",
      "小山        発送\n",
      "藤原        発送\n",
      "金子        発送\n",
      "['通常検品', 'バーコード検品', '荷受', '採寸', '商品サポート', '撮影アシスタント', '入出庫', '発送']\n",
      "[121, 102, 112, 107, 74, 50, 46, 118]\n",
      "730\n"
     ]
    }
   ],
   "source": [
    "from gurobipy import*\n",
    "\n",
    "m=Model(\"staffing\")\n",
    "m.setParam('OutputFlag',0)\n",
    "\n",
    "\n",
    "#スタッフをどこの業務に配置するか、バイナリー変数で表現する。\n",
    "d_staff_work={} \n",
    "for work in works:\n",
    "    for staff in dstaff.keys():\n",
    "        d_staff_work[(staff,work)]=m.addVar(vtype=\"B\",name=staff+\"_\"+work)\n",
    "\n",
    "m.update()\n",
    "\n",
    "# スタッフがあてがわれる業務は一つであるという制約\n",
    "for staff in dstaff.keys():\n",
    "    m.addConstr( quicksum( d_staff_work[(staff,work)] for work in works) ==1 )\n",
    "\n",
    "m.update()\n",
    "\n",
    "# スタッフ同士のNG制約\n",
    "for staff in dstaff.keys():\n",
    "    if dstaff[staff][\"NG\"]:\n",
    "        for work in works:\n",
    "            m.addConstr( d_staff_work[(staff,work)] + d_staff_work[(dstaff[staff][\"NG\"],work)] <=1 )\n",
    "            # 不等号は使えないため足して1以下になれば違う仕事のはず\n",
    "\n",
    "m.update()\n",
    "\n",
    "\n",
    "#目的変数(総仕事量)の最大化\n",
    "m.setObjective( quicksum( d_staff_work[(staff,work)]*dstaff[staff][work] for staff in dstaff.keys() for work in works) , GRB.MAXIMIZE)\n",
    "\n",
    "#最適化\n",
    "m.optimize()\n",
    "\n",
    "works_sum=[0]*8\n",
    "\n",
    "if m.Status == GRB.Status.OPTIMAL:\n",
    "    for v in m.getVars():\n",
    "        if v.X:\n",
    "            staff,work=v.VarName.split(\"_\")\n",
    "            print(staff,\"      \",work)\n",
    "            works_sum[works.index(work)]+=dstaff[staff][work]\n",
    "print(works)\n",
    "print(works_sum)\n",
    "print(sum(works_sum))"
   ]
  },
  {
   "cell_type": "markdown",
   "metadata": {},
   "source": [
    "- NGを守りつつ総仕事量が約二倍に"
   ]
  },
  {
   "cell_type": "markdown",
   "metadata": {},
   "source": [
    "# 今後の課題\n",
    "\n",
    "- 時給制なので、一時間ごとに再計算？もしくは時系列も考慮するなど。（一部、二部で分ける？）\n",
    "- 確実に来る人員と当日バックレや病欠が起きる人員でモデルを分ける必要があるかもしれない。\n",
    "- 週四以上の契約、週三以下の契約などの制約条件もある。\n",
    "- 現実はもっと複雑なはず。"
   ]
  }
 ],
 "metadata": {
  "kernelspec": {
   "display_name": "Python 3",
   "language": "python",
   "name": "python3"
  },
  "language_info": {
   "codemirror_mode": {
    "name": "ipython",
    "version": 3
   },
   "file_extension": ".py",
   "mimetype": "text/x-python",
   "name": "python",
   "nbconvert_exporter": "python",
   "pygments_lexer": "ipython3",
   "version": "3.7.4"
  }
 },
 "nbformat": 4,
 "nbformat_minor": 2
}
